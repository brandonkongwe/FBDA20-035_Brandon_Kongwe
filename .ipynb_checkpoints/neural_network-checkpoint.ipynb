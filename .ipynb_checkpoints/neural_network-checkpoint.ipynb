{
 "cells": [
  {
   "cell_type": "code",
   "execution_count": 1,
   "id": "1584fced",
   "metadata": {},
   "outputs": [],
   "source": [
    "# importing libraries\n",
    "import pandas as pd\n",
    "import matplotlib.pyplot as plt\n",
    "import seaborn as sns\n",
    "import numpy as np\n",
    "from sklearn.model_selection import train_test_split, GridSearchCV\n",
    "from sklearn.preprocessing import StandardScaler, LabelEncoder\n",
    "import keras\n",
    "from keras.models import Sequential\n",
    "from keras.layers import Dense, Dropout\n",
    "from sklearn.metrics import confusion_matrix\n",
    "from keras.wrappers.scikit_learn import KerasClassifier\n",
    "from sklearn.model_selection import cross_val_score"
   ]
  },
  {
   "cell_type": "code",
   "execution_count": 2,
   "id": "cf0c8121",
   "metadata": {},
   "outputs": [],
   "source": [
    "data = pd.read_csv(\"bidadata.csv\")"
   ]
  },
  {
   "cell_type": "code",
   "execution_count": 3,
   "id": "2797c3e5",
   "metadata": {},
   "outputs": [
    {
     "data": {
      "text/html": [
       "<div>\n",
       "<style scoped>\n",
       "    .dataframe tbody tr th:only-of-type {\n",
       "        vertical-align: middle;\n",
       "    }\n",
       "\n",
       "    .dataframe tbody tr th {\n",
       "        vertical-align: top;\n",
       "    }\n",
       "\n",
       "    .dataframe thead th {\n",
       "        text-align: right;\n",
       "    }\n",
       "</style>\n",
       "<table border=\"1\" class=\"dataframe\">\n",
       "  <thead>\n",
       "    <tr style=\"text-align: right;\">\n",
       "      <th></th>\n",
       "      <th>Loan_ID</th>\n",
       "      <th>Gender</th>\n",
       "      <th>Married</th>\n",
       "      <th>Dependents</th>\n",
       "      <th>Education</th>\n",
       "      <th>Self_Employed</th>\n",
       "      <th>ApplicantIncome</th>\n",
       "      <th>CoapplicantIncome</th>\n",
       "      <th>LoanAmount</th>\n",
       "      <th>Loan_Amount_Term</th>\n",
       "      <th>Credit_History</th>\n",
       "      <th>Property_Area</th>\n",
       "      <th>Loan_Status</th>\n",
       "    </tr>\n",
       "  </thead>\n",
       "  <tbody>\n",
       "    <tr>\n",
       "      <th>0</th>\n",
       "      <td>LP001002</td>\n",
       "      <td>Male</td>\n",
       "      <td>No</td>\n",
       "      <td>0</td>\n",
       "      <td>Graduate</td>\n",
       "      <td>No</td>\n",
       "      <td>5849</td>\n",
       "      <td>0.0</td>\n",
       "      <td>NaN</td>\n",
       "      <td>360.0</td>\n",
       "      <td>1.0</td>\n",
       "      <td>Urban</td>\n",
       "      <td>Y</td>\n",
       "    </tr>\n",
       "    <tr>\n",
       "      <th>1</th>\n",
       "      <td>LP001003</td>\n",
       "      <td>Male</td>\n",
       "      <td>Yes</td>\n",
       "      <td>1</td>\n",
       "      <td>Graduate</td>\n",
       "      <td>No</td>\n",
       "      <td>4583</td>\n",
       "      <td>1508.0</td>\n",
       "      <td>128.0</td>\n",
       "      <td>360.0</td>\n",
       "      <td>1.0</td>\n",
       "      <td>Rural</td>\n",
       "      <td>N</td>\n",
       "    </tr>\n",
       "    <tr>\n",
       "      <th>2</th>\n",
       "      <td>LP001005</td>\n",
       "      <td>Male</td>\n",
       "      <td>Yes</td>\n",
       "      <td>0</td>\n",
       "      <td>Graduate</td>\n",
       "      <td>Yes</td>\n",
       "      <td>3000</td>\n",
       "      <td>0.0</td>\n",
       "      <td>66.0</td>\n",
       "      <td>360.0</td>\n",
       "      <td>1.0</td>\n",
       "      <td>Urban</td>\n",
       "      <td>Y</td>\n",
       "    </tr>\n",
       "    <tr>\n",
       "      <th>3</th>\n",
       "      <td>LP001006</td>\n",
       "      <td>Male</td>\n",
       "      <td>Yes</td>\n",
       "      <td>0</td>\n",
       "      <td>Not Graduate</td>\n",
       "      <td>No</td>\n",
       "      <td>2583</td>\n",
       "      <td>2358.0</td>\n",
       "      <td>120.0</td>\n",
       "      <td>360.0</td>\n",
       "      <td>1.0</td>\n",
       "      <td>Urban</td>\n",
       "      <td>Y</td>\n",
       "    </tr>\n",
       "    <tr>\n",
       "      <th>4</th>\n",
       "      <td>LP001008</td>\n",
       "      <td>Male</td>\n",
       "      <td>No</td>\n",
       "      <td>0</td>\n",
       "      <td>Graduate</td>\n",
       "      <td>No</td>\n",
       "      <td>6000</td>\n",
       "      <td>0.0</td>\n",
       "      <td>141.0</td>\n",
       "      <td>360.0</td>\n",
       "      <td>1.0</td>\n",
       "      <td>Urban</td>\n",
       "      <td>Y</td>\n",
       "    </tr>\n",
       "  </tbody>\n",
       "</table>\n",
       "</div>"
      ],
      "text/plain": [
       "    Loan_ID Gender Married Dependents     Education Self_Employed  \\\n",
       "0  LP001002   Male      No          0      Graduate            No   \n",
       "1  LP001003   Male     Yes          1      Graduate            No   \n",
       "2  LP001005   Male     Yes          0      Graduate           Yes   \n",
       "3  LP001006   Male     Yes          0  Not Graduate            No   \n",
       "4  LP001008   Male      No          0      Graduate            No   \n",
       "\n",
       "   ApplicantIncome  CoapplicantIncome  LoanAmount  Loan_Amount_Term  \\\n",
       "0             5849                0.0         NaN             360.0   \n",
       "1             4583             1508.0       128.0             360.0   \n",
       "2             3000                0.0        66.0             360.0   \n",
       "3             2583             2358.0       120.0             360.0   \n",
       "4             6000                0.0       141.0             360.0   \n",
       "\n",
       "   Credit_History Property_Area Loan_Status  \n",
       "0             1.0         Urban           Y  \n",
       "1             1.0         Rural           N  \n",
       "2             1.0         Urban           Y  \n",
       "3             1.0         Urban           Y  \n",
       "4             1.0         Urban           Y  "
      ]
     },
     "execution_count": 3,
     "metadata": {},
     "output_type": "execute_result"
    }
   ],
   "source": [
    "data.head()"
   ]
  },
  {
   "cell_type": "code",
   "execution_count": 4,
   "id": "3bfaa3c1",
   "metadata": {},
   "outputs": [
    {
     "data": {
      "text/plain": [
       "Loan_ID               0\n",
       "Gender               13\n",
       "Married               3\n",
       "Dependents           15\n",
       "Education             0\n",
       "Self_Employed        32\n",
       "ApplicantIncome       0\n",
       "CoapplicantIncome     0\n",
       "LoanAmount           22\n",
       "Loan_Amount_Term     14\n",
       "Credit_History       50\n",
       "Property_Area         0\n",
       "Loan_Status           0\n",
       "dtype: int64"
      ]
     },
     "execution_count": 4,
     "metadata": {},
     "output_type": "execute_result"
    }
   ],
   "source": [
    "# finding the number of missing values in each column\n",
    "data.isnull().sum()"
   ]
  },
  {
   "cell_type": "code",
   "execution_count": 5,
   "id": "8fedd1d8",
   "metadata": {},
   "outputs": [],
   "source": [
    "# filling in the null values with the mode of each column\n",
    "for column in data.columns:\n",
    "    data[column].fillna(data[column].mode().iloc[0], inplace=True)"
   ]
  },
  {
   "cell_type": "code",
   "execution_count": 6,
   "id": "6a6f0310",
   "metadata": {},
   "outputs": [
    {
     "data": {
      "text/plain": [
       "Loan_ID              0\n",
       "Gender               0\n",
       "Married              0\n",
       "Dependents           0\n",
       "Education            0\n",
       "Self_Employed        0\n",
       "ApplicantIncome      0\n",
       "CoapplicantIncome    0\n",
       "LoanAmount           0\n",
       "Loan_Amount_Term     0\n",
       "Credit_History       0\n",
       "Property_Area        0\n",
       "Loan_Status          0\n",
       "dtype: int64"
      ]
     },
     "execution_count": 6,
     "metadata": {},
     "output_type": "execute_result"
    }
   ],
   "source": [
    "data.isnull().sum()"
   ]
  },
  {
   "cell_type": "code",
   "execution_count": 7,
   "id": "97209588",
   "metadata": {},
   "outputs": [
    {
     "data": {
      "text/html": [
       "<div>\n",
       "<style scoped>\n",
       "    .dataframe tbody tr th:only-of-type {\n",
       "        vertical-align: middle;\n",
       "    }\n",
       "\n",
       "    .dataframe tbody tr th {\n",
       "        vertical-align: top;\n",
       "    }\n",
       "\n",
       "    .dataframe thead th {\n",
       "        text-align: right;\n",
       "    }\n",
       "</style>\n",
       "<table border=\"1\" class=\"dataframe\">\n",
       "  <thead>\n",
       "    <tr style=\"text-align: right;\">\n",
       "      <th></th>\n",
       "      <th>Loan_ID</th>\n",
       "      <th>Gender</th>\n",
       "      <th>Married</th>\n",
       "      <th>Dependents</th>\n",
       "      <th>Education</th>\n",
       "      <th>Self_Employed</th>\n",
       "      <th>ApplicantIncome</th>\n",
       "      <th>CoapplicantIncome</th>\n",
       "      <th>LoanAmount</th>\n",
       "      <th>Loan_Amount_Term</th>\n",
       "      <th>Credit_History</th>\n",
       "      <th>Property_Area</th>\n",
       "      <th>Loan_Status</th>\n",
       "    </tr>\n",
       "  </thead>\n",
       "  <tbody>\n",
       "    <tr>\n",
       "      <th>0</th>\n",
       "      <td>LP001002</td>\n",
       "      <td>Male</td>\n",
       "      <td>No</td>\n",
       "      <td>0</td>\n",
       "      <td>Graduate</td>\n",
       "      <td>No</td>\n",
       "      <td>5849</td>\n",
       "      <td>0.0</td>\n",
       "      <td>120.0</td>\n",
       "      <td>360.0</td>\n",
       "      <td>1.0</td>\n",
       "      <td>Urban</td>\n",
       "      <td>Y</td>\n",
       "    </tr>\n",
       "    <tr>\n",
       "      <th>1</th>\n",
       "      <td>LP001003</td>\n",
       "      <td>Male</td>\n",
       "      <td>Yes</td>\n",
       "      <td>1</td>\n",
       "      <td>Graduate</td>\n",
       "      <td>No</td>\n",
       "      <td>4583</td>\n",
       "      <td>1508.0</td>\n",
       "      <td>128.0</td>\n",
       "      <td>360.0</td>\n",
       "      <td>1.0</td>\n",
       "      <td>Rural</td>\n",
       "      <td>N</td>\n",
       "    </tr>\n",
       "    <tr>\n",
       "      <th>2</th>\n",
       "      <td>LP001005</td>\n",
       "      <td>Male</td>\n",
       "      <td>Yes</td>\n",
       "      <td>0</td>\n",
       "      <td>Graduate</td>\n",
       "      <td>Yes</td>\n",
       "      <td>3000</td>\n",
       "      <td>0.0</td>\n",
       "      <td>66.0</td>\n",
       "      <td>360.0</td>\n",
       "      <td>1.0</td>\n",
       "      <td>Urban</td>\n",
       "      <td>Y</td>\n",
       "    </tr>\n",
       "    <tr>\n",
       "      <th>3</th>\n",
       "      <td>LP001006</td>\n",
       "      <td>Male</td>\n",
       "      <td>Yes</td>\n",
       "      <td>0</td>\n",
       "      <td>Not Graduate</td>\n",
       "      <td>No</td>\n",
       "      <td>2583</td>\n",
       "      <td>2358.0</td>\n",
       "      <td>120.0</td>\n",
       "      <td>360.0</td>\n",
       "      <td>1.0</td>\n",
       "      <td>Urban</td>\n",
       "      <td>Y</td>\n",
       "    </tr>\n",
       "    <tr>\n",
       "      <th>4</th>\n",
       "      <td>LP001008</td>\n",
       "      <td>Male</td>\n",
       "      <td>No</td>\n",
       "      <td>0</td>\n",
       "      <td>Graduate</td>\n",
       "      <td>No</td>\n",
       "      <td>6000</td>\n",
       "      <td>0.0</td>\n",
       "      <td>141.0</td>\n",
       "      <td>360.0</td>\n",
       "      <td>1.0</td>\n",
       "      <td>Urban</td>\n",
       "      <td>Y</td>\n",
       "    </tr>\n",
       "  </tbody>\n",
       "</table>\n",
       "</div>"
      ],
      "text/plain": [
       "    Loan_ID Gender Married Dependents     Education Self_Employed  \\\n",
       "0  LP001002   Male      No          0      Graduate            No   \n",
       "1  LP001003   Male     Yes          1      Graduate            No   \n",
       "2  LP001005   Male     Yes          0      Graduate           Yes   \n",
       "3  LP001006   Male     Yes          0  Not Graduate            No   \n",
       "4  LP001008   Male      No          0      Graduate            No   \n",
       "\n",
       "   ApplicantIncome  CoapplicantIncome  LoanAmount  Loan_Amount_Term  \\\n",
       "0             5849                0.0       120.0             360.0   \n",
       "1             4583             1508.0       128.0             360.0   \n",
       "2             3000                0.0        66.0             360.0   \n",
       "3             2583             2358.0       120.0             360.0   \n",
       "4             6000                0.0       141.0             360.0   \n",
       "\n",
       "   Credit_History Property_Area Loan_Status  \n",
       "0             1.0         Urban           Y  \n",
       "1             1.0         Rural           N  \n",
       "2             1.0         Urban           Y  \n",
       "3             1.0         Urban           Y  \n",
       "4             1.0         Urban           Y  "
      ]
     },
     "execution_count": 7,
     "metadata": {},
     "output_type": "execute_result"
    }
   ],
   "source": [
    "data.head()"
   ]
  },
  {
   "cell_type": "code",
   "execution_count": 8,
   "id": "a8d4d694",
   "metadata": {},
   "outputs": [],
   "source": [
    "# dropping the Loan_ID column\n",
    "data = data.drop(['Loan_ID'], axis=1)"
   ]
  },
  {
   "cell_type": "code",
   "execution_count": 9,
   "id": "1263aa17",
   "metadata": {},
   "outputs": [],
   "source": [
    "# selecting the features to be used in the deep learning model\n",
    "X = data.drop(['Loan_Status'], axis=1)\n",
    "y = data['Loan_Status']"
   ]
  },
  {
   "cell_type": "code",
   "execution_count": 10,
   "id": "955c2a7e",
   "metadata": {},
   "outputs": [],
   "source": [
    "# converting categorical data to numerical data for use in the model\n",
    "# using LabelEncoder\n",
    "encoders = {}\n",
    "for column in ['Gender', 'Married', 'Dependents',\n",
    "                'Education', 'Self_Employed', 'Property_Area']:\n",
    "    categorical_convert = LabelEncoder()\n",
    "    X[column] = categorical_convert.fit_transform(X[column])\n",
    "    encoders[column] = categorical_convert"
   ]
  },
  {
   "cell_type": "code",
   "execution_count": 11,
   "id": "de8b8d8c",
   "metadata": {},
   "outputs": [],
   "source": [
    "categorical_convert = LabelEncoder()\n",
    "y = categorical_convert.fit_transform(y)"
   ]
  },
  {
   "cell_type": "code",
   "execution_count": 12,
   "id": "d25eeaba",
   "metadata": {},
   "outputs": [],
   "source": [
    "# 80/20 train-test split\n",
    "X_train, X_test, y_train, y_test = train_test_split(X, y, test_size=0.2)"
   ]
  },
  {
   "cell_type": "code",
   "execution_count": 13,
   "id": "8a868cc8",
   "metadata": {},
   "outputs": [],
   "source": [
    "# using StandardScaler to normalize the data\n",
    "scaler = StandardScaler()\n",
    "X_train = scaler.fit_transform(X_train)\n",
    "X_test = scaler.transform(X_test)"
   ]
  },
  {
   "cell_type": "code",
   "execution_count": 14,
   "id": "73cbb8ce",
   "metadata": {},
   "outputs": [],
   "source": [
    "# initializing the classifier\n",
    "classifier = Sequential()"
   ]
  },
  {
   "cell_type": "code",
   "execution_count": 15,
   "id": "0e849744",
   "metadata": {},
   "outputs": [],
   "source": [
    "# adding layers to the neural network (input layer, one hidden layer, and an output layer)\n",
    "classifier.add(Dense(11, kernel_initializer = \"uniform\", activation = \"relu\", input_dim=11))\n",
    "classifier.add(Dense(6, kernel_initializer = \"uniform\", activation = \"relu\"))\n",
    "classifier.add(Dropout(rate = 0.1))\n",
    "classifier.add(Dense(1, kernel_initializer = \"uniform\", activation = \"sigmoid\"))"
   ]
  },
  {
   "cell_type": "code",
   "execution_count": 16,
   "id": "534fbf3b",
   "metadata": {},
   "outputs": [],
   "source": [
    "# applying a gradient descent to optimize the network\n",
    "classifier.compile(optimizer=\"adam\", loss = \"binary_crossentropy\", metrics = [\"accuracy\"])"
   ]
  },
  {
   "cell_type": "code",
   "execution_count": 17,
   "id": "d45fdc01",
   "metadata": {},
   "outputs": [
    {
     "name": "stdout",
     "output_type": "stream",
     "text": [
      "Epoch 1/150\n",
      "50/50 [==============================] - 5s 5ms/step - loss: 0.6889 - accuracy: 0.6680\n",
      "Epoch 2/150\n",
      "50/50 [==============================] - 0s 2ms/step - loss: 0.6751 - accuracy: 0.6721\n",
      "Epoch 3/150\n",
      "50/50 [==============================] - 0s 1ms/step - loss: 0.6436 - accuracy: 0.6721\n",
      "Epoch 4/150\n",
      "50/50 [==============================] - 0s 2ms/step - loss: 0.5837 - accuracy: 0.7862\n",
      "Epoch 5/150\n",
      "50/50 [==============================] - 0s 2ms/step - loss: 0.5408 - accuracy: 0.7923\n",
      "Epoch 6/150\n",
      "50/50 [==============================] - 0s 2ms/step - loss: 0.5130 - accuracy: 0.7862\n",
      "Epoch 7/150\n",
      "50/50 [==============================] - 0s 2ms/step - loss: 0.4956 - accuracy: 0.7963\n",
      "Epoch 8/150\n",
      "50/50 [==============================] - 0s 1ms/step - loss: 0.4828 - accuracy: 0.7902\n",
      "Epoch 9/150\n",
      "50/50 [==============================] - 0s 2ms/step - loss: 0.4639 - accuracy: 0.8004\n",
      "Epoch 10/150\n",
      "50/50 [==============================] - 0s 2ms/step - loss: 0.4796 - accuracy: 0.7882\n",
      "Epoch 11/150\n",
      "50/50 [==============================] - 0s 1ms/step - loss: 0.4580 - accuracy: 0.7943\n",
      "Epoch 12/150\n",
      "50/50 [==============================] - 0s 2ms/step - loss: 0.4591 - accuracy: 0.7943\n",
      "Epoch 13/150\n",
      "50/50 [==============================] - 0s 2ms/step - loss: 0.4588 - accuracy: 0.8024\n",
      "Epoch 14/150\n",
      "50/50 [==============================] - 0s 2ms/step - loss: 0.4591 - accuracy: 0.8024\n",
      "Epoch 15/150\n",
      "50/50 [==============================] - 0s 2ms/step - loss: 0.4636 - accuracy: 0.7943\n",
      "Epoch 16/150\n",
      "50/50 [==============================] - 0s 2ms/step - loss: 0.4639 - accuracy: 0.7943\n",
      "Epoch 17/150\n",
      "50/50 [==============================] - 0s 2ms/step - loss: 0.4585 - accuracy: 0.7923\n",
      "Epoch 18/150\n",
      "50/50 [==============================] - 0s 2ms/step - loss: 0.4637 - accuracy: 0.7963\n",
      "Epoch 19/150\n",
      "50/50 [==============================] - 0s 2ms/step - loss: 0.4533 - accuracy: 0.8024\n",
      "Epoch 20/150\n",
      "50/50 [==============================] - 0s 1ms/step - loss: 0.4488 - accuracy: 0.7943\n",
      "Epoch 21/150\n",
      "50/50 [==============================] - 0s 2ms/step - loss: 0.4477 - accuracy: 0.7963\n",
      "Epoch 22/150\n",
      "50/50 [==============================] - 0s 2ms/step - loss: 0.4575 - accuracy: 0.7963\n",
      "Epoch 23/150\n",
      "50/50 [==============================] - 0s 2ms/step - loss: 0.4446 - accuracy: 0.8004\n",
      "Epoch 24/150\n",
      "50/50 [==============================] - 0s 2ms/step - loss: 0.4496 - accuracy: 0.7943\n",
      "Epoch 25/150\n",
      "50/50 [==============================] - 0s 2ms/step - loss: 0.4571 - accuracy: 0.7923\n",
      "Epoch 26/150\n",
      "50/50 [==============================] - 0s 2ms/step - loss: 0.4631 - accuracy: 0.7902\n",
      "Epoch 27/150\n",
      "50/50 [==============================] - 0s 1ms/step - loss: 0.4463 - accuracy: 0.8024\n",
      "Epoch 28/150\n",
      "50/50 [==============================] - 0s 2ms/step - loss: 0.4513 - accuracy: 0.7821\n",
      "Epoch 29/150\n",
      "50/50 [==============================] - 0s 1ms/step - loss: 0.4502 - accuracy: 0.7923\n",
      "Epoch 30/150\n",
      "50/50 [==============================] - 0s 1ms/step - loss: 0.4402 - accuracy: 0.8065\n",
      "Epoch 31/150\n",
      "50/50 [==============================] - 0s 2ms/step - loss: 0.4408 - accuracy: 0.8045\n",
      "Epoch 32/150\n",
      "50/50 [==============================] - 0s 2ms/step - loss: 0.4538 - accuracy: 0.7963\n",
      "Epoch 33/150\n",
      "50/50 [==============================] - 0s 2ms/step - loss: 0.4450 - accuracy: 0.7943\n",
      "Epoch 34/150\n",
      "50/50 [==============================] - 0s 2ms/step - loss: 0.4558 - accuracy: 0.7902\n",
      "Epoch 35/150\n",
      "50/50 [==============================] - 0s 2ms/step - loss: 0.4401 - accuracy: 0.8024\n",
      "Epoch 36/150\n",
      "50/50 [==============================] - 0s 1ms/step - loss: 0.4405 - accuracy: 0.8024\n",
      "Epoch 37/150\n",
      "50/50 [==============================] - 0s 1ms/step - loss: 0.4349 - accuracy: 0.7984\n",
      "Epoch 38/150\n",
      "50/50 [==============================] - 0s 1ms/step - loss: 0.4570 - accuracy: 0.7902\n",
      "Epoch 39/150\n",
      "50/50 [==============================] - 0s 1ms/step - loss: 0.4309 - accuracy: 0.8024\n",
      "Epoch 40/150\n",
      "50/50 [==============================] - 0s 1ms/step - loss: 0.4309 - accuracy: 0.8065\n",
      "Epoch 41/150\n",
      "50/50 [==============================] - 0s 1ms/step - loss: 0.4360 - accuracy: 0.7902\n",
      "Epoch 42/150\n",
      "50/50 [==============================] - 0s 1ms/step - loss: 0.4268 - accuracy: 0.8065\n",
      "Epoch 43/150\n",
      "50/50 [==============================] - 0s 1ms/step - loss: 0.4345 - accuracy: 0.8004\n",
      "Epoch 44/150\n",
      "50/50 [==============================] - 0s 1ms/step - loss: 0.4361 - accuracy: 0.8045\n",
      "Epoch 45/150\n",
      "50/50 [==============================] - 0s 1ms/step - loss: 0.4364 - accuracy: 0.7963\n",
      "Epoch 46/150\n",
      "50/50 [==============================] - 0s 1ms/step - loss: 0.4349 - accuracy: 0.8045\n",
      "Epoch 47/150\n",
      "50/50 [==============================] - 0s 1ms/step - loss: 0.4445 - accuracy: 0.7963\n",
      "Epoch 48/150\n",
      "50/50 [==============================] - 0s 1ms/step - loss: 0.4344 - accuracy: 0.8024\n",
      "Epoch 49/150\n",
      "50/50 [==============================] - 0s 1ms/step - loss: 0.4386 - accuracy: 0.7923\n",
      "Epoch 50/150\n",
      "50/50 [==============================] - 0s 1ms/step - loss: 0.4372 - accuracy: 0.7984\n",
      "Epoch 51/150\n",
      "50/50 [==============================] - 0s 1ms/step - loss: 0.4313 - accuracy: 0.8106\n",
      "Epoch 52/150\n",
      "50/50 [==============================] - 0s 1ms/step - loss: 0.4448 - accuracy: 0.7923\n",
      "Epoch 53/150\n",
      "50/50 [==============================] - 0s 1ms/step - loss: 0.4348 - accuracy: 0.8045\n",
      "Epoch 54/150\n",
      "50/50 [==============================] - 0s 1ms/step - loss: 0.4324 - accuracy: 0.8045\n",
      "Epoch 55/150\n",
      "50/50 [==============================] - 0s 1ms/step - loss: 0.4300 - accuracy: 0.8086\n",
      "Epoch 56/150\n",
      "50/50 [==============================] - 0s 1ms/step - loss: 0.4294 - accuracy: 0.8147\n",
      "Epoch 57/150\n",
      "50/50 [==============================] - 0s 2ms/step - loss: 0.4310 - accuracy: 0.8106\n",
      "Epoch 58/150\n",
      "50/50 [==============================] - 0s 1ms/step - loss: 0.4280 - accuracy: 0.8106\n",
      "Epoch 59/150\n",
      "50/50 [==============================] - 0s 1ms/step - loss: 0.4124 - accuracy: 0.8106\n",
      "Epoch 60/150\n",
      "50/50 [==============================] - 0s 2ms/step - loss: 0.4234 - accuracy: 0.8106\n",
      "Epoch 61/150\n",
      "50/50 [==============================] - 0s 1ms/step - loss: 0.4288 - accuracy: 0.8086\n",
      "Epoch 62/150\n",
      "50/50 [==============================] - 0s 1ms/step - loss: 0.4284 - accuracy: 0.8126\n",
      "Epoch 63/150\n",
      "50/50 [==============================] - 0s 1ms/step - loss: 0.4356 - accuracy: 0.7984\n",
      "Epoch 64/150\n",
      "50/50 [==============================] - 0s 2ms/step - loss: 0.4252 - accuracy: 0.8106\n",
      "Epoch 65/150\n",
      "50/50 [==============================] - 0s 2ms/step - loss: 0.4177 - accuracy: 0.8045\n",
      "Epoch 66/150\n",
      "50/50 [==============================] - 0s 1ms/step - loss: 0.4148 - accuracy: 0.8208\n",
      "Epoch 67/150\n",
      "50/50 [==============================] - 0s 1ms/step - loss: 0.4342 - accuracy: 0.7984\n",
      "Epoch 68/150\n",
      "50/50 [==============================] - 0s 1ms/step - loss: 0.4233 - accuracy: 0.8106\n",
      "Epoch 69/150\n",
      "50/50 [==============================] - 0s 1ms/step - loss: 0.4284 - accuracy: 0.8106\n",
      "Epoch 70/150\n",
      "50/50 [==============================] - 0s 1ms/step - loss: 0.4171 - accuracy: 0.8147\n",
      "Epoch 71/150\n",
      "50/50 [==============================] - 0s 1ms/step - loss: 0.4267 - accuracy: 0.7963\n",
      "Epoch 72/150\n",
      "50/50 [==============================] - 0s 2ms/step - loss: 0.4207 - accuracy: 0.8126\n",
      "Epoch 73/150\n",
      "50/50 [==============================] - 0s 1ms/step - loss: 0.4250 - accuracy: 0.8167\n",
      "Epoch 74/150\n",
      "50/50 [==============================] - 0s 2ms/step - loss: 0.4214 - accuracy: 0.8086\n",
      "Epoch 75/150\n",
      "50/50 [==============================] - 0s 2ms/step - loss: 0.4174 - accuracy: 0.8269\n",
      "Epoch 76/150\n",
      "50/50 [==============================] - 0s 2ms/step - loss: 0.4278 - accuracy: 0.8086\n",
      "Epoch 77/150\n",
      "50/50 [==============================] - 0s 2ms/step - loss: 0.4127 - accuracy: 0.8167\n",
      "Epoch 78/150\n",
      "50/50 [==============================] - 0s 2ms/step - loss: 0.4150 - accuracy: 0.8187\n",
      "Epoch 79/150\n",
      "50/50 [==============================] - 0s 2ms/step - loss: 0.4239 - accuracy: 0.8065\n",
      "Epoch 80/150\n",
      "50/50 [==============================] - 0s 2ms/step - loss: 0.4159 - accuracy: 0.8147\n",
      "Epoch 81/150\n",
      "50/50 [==============================] - 0s 2ms/step - loss: 0.4318 - accuracy: 0.8106\n",
      "Epoch 82/150\n",
      "50/50 [==============================] - 0s 1ms/step - loss: 0.4181 - accuracy: 0.8167\n",
      "Epoch 83/150\n"
     ]
    },
    {
     "name": "stdout",
     "output_type": "stream",
     "text": [
      "50/50 [==============================] - 0s 2ms/step - loss: 0.4144 - accuracy: 0.8187\n",
      "Epoch 84/150\n",
      "50/50 [==============================] - 0s 2ms/step - loss: 0.4245 - accuracy: 0.8126\n",
      "Epoch 85/150\n",
      "50/50 [==============================] - 0s 2ms/step - loss: 0.4267 - accuracy: 0.8045\n",
      "Epoch 86/150\n",
      "50/50 [==============================] - 0s 1ms/step - loss: 0.4330 - accuracy: 0.8065\n",
      "Epoch 87/150\n",
      "50/50 [==============================] - 0s 1ms/step - loss: 0.4248 - accuracy: 0.8208\n",
      "Epoch 88/150\n",
      "50/50 [==============================] - 0s 2ms/step - loss: 0.4109 - accuracy: 0.8147\n",
      "Epoch 89/150\n",
      "50/50 [==============================] - 0s 2ms/step - loss: 0.4165 - accuracy: 0.8187\n",
      "Epoch 90/150\n",
      "50/50 [==============================] - 0s 2ms/step - loss: 0.4030 - accuracy: 0.8228\n",
      "Epoch 91/150\n",
      "50/50 [==============================] - 0s 1ms/step - loss: 0.4082 - accuracy: 0.8126\n",
      "Epoch 92/150\n",
      "50/50 [==============================] - 0s 1ms/step - loss: 0.4077 - accuracy: 0.8248\n",
      "Epoch 93/150\n",
      "50/50 [==============================] - 0s 2ms/step - loss: 0.4098 - accuracy: 0.8106\n",
      "Epoch 94/150\n",
      "50/50 [==============================] - 0s 2ms/step - loss: 0.4049 - accuracy: 0.8208\n",
      "Epoch 95/150\n",
      "50/50 [==============================] - 0s 2ms/step - loss: 0.4206 - accuracy: 0.8167\n",
      "Epoch 96/150\n",
      "50/50 [==============================] - 0s 1ms/step - loss: 0.4190 - accuracy: 0.8167\n",
      "Epoch 97/150\n",
      "50/50 [==============================] - 0s 1ms/step - loss: 0.4143 - accuracy: 0.8126\n",
      "Epoch 98/150\n",
      "50/50 [==============================] - 0s 2ms/step - loss: 0.4109 - accuracy: 0.8208\n",
      "Epoch 99/150\n",
      "50/50 [==============================] - 0s 2ms/step - loss: 0.4148 - accuracy: 0.8167\n",
      "Epoch 100/150\n",
      "50/50 [==============================] - 0s 1ms/step - loss: 0.4208 - accuracy: 0.8310\n",
      "Epoch 101/150\n",
      "50/50 [==============================] - 0s 1ms/step - loss: 0.4168 - accuracy: 0.8330\n",
      "Epoch 102/150\n",
      "50/50 [==============================] - 0s 1ms/step - loss: 0.4125 - accuracy: 0.8371\n",
      "Epoch 103/150\n",
      "50/50 [==============================] - 0s 1ms/step - loss: 0.4084 - accuracy: 0.8228\n",
      "Epoch 104/150\n",
      "50/50 [==============================] - 0s 1ms/step - loss: 0.4111 - accuracy: 0.8330\n",
      "Epoch 105/150\n",
      "50/50 [==============================] - 0s 1ms/step - loss: 0.4101 - accuracy: 0.8289\n",
      "Epoch 106/150\n",
      "50/50 [==============================] - 0s 1ms/step - loss: 0.4270 - accuracy: 0.8391\n",
      "Epoch 107/150\n",
      "50/50 [==============================] - 0s 1ms/step - loss: 0.4135 - accuracy: 0.8269\n",
      "Epoch 108/150\n",
      "50/50 [==============================] - 0s 2ms/step - loss: 0.4104 - accuracy: 0.8330\n",
      "Epoch 109/150\n",
      "50/50 [==============================] - 0s 2ms/step - loss: 0.4058 - accuracy: 0.8289\n",
      "Epoch 110/150\n",
      "50/50 [==============================] - 0s 2ms/step - loss: 0.4163 - accuracy: 0.8391\n",
      "Epoch 111/150\n",
      "50/50 [==============================] - 0s 1ms/step - loss: 0.4207 - accuracy: 0.8310\n",
      "Epoch 112/150\n",
      "50/50 [==============================] - 0s 1ms/step - loss: 0.4170 - accuracy: 0.8371\n",
      "Epoch 113/150\n",
      "50/50 [==============================] - 0s 2ms/step - loss: 0.4160 - accuracy: 0.8330\n",
      "Epoch 114/150\n",
      "50/50 [==============================] - 0s 2ms/step - loss: 0.4129 - accuracy: 0.8330\n",
      "Epoch 115/150\n",
      "50/50 [==============================] - 0s 2ms/step - loss: 0.4004 - accuracy: 0.8330\n",
      "Epoch 116/150\n",
      "50/50 [==============================] - 0s 2ms/step - loss: 0.4009 - accuracy: 0.8371\n",
      "Epoch 117/150\n",
      "50/50 [==============================] - 0s 1ms/step - loss: 0.4149 - accuracy: 0.8289\n",
      "Epoch 118/150\n",
      "50/50 [==============================] - 0s 1ms/step - loss: 0.4077 - accuracy: 0.8350\n",
      "Epoch 119/150\n",
      "50/50 [==============================] - 0s 2ms/step - loss: 0.4072 - accuracy: 0.8411\n",
      "Epoch 120/150\n",
      "50/50 [==============================] - 0s 2ms/step - loss: 0.4077 - accuracy: 0.8310\n",
      "Epoch 121/150\n",
      "50/50 [==============================] - 0s 2ms/step - loss: 0.4070 - accuracy: 0.8350\n",
      "Epoch 122/150\n",
      "50/50 [==============================] - 0s 2ms/step - loss: 0.4013 - accuracy: 0.8310\n",
      "Epoch 123/150\n",
      "50/50 [==============================] - 0s 2ms/step - loss: 0.4095 - accuracy: 0.8330\n",
      "Epoch 124/150\n",
      "50/50 [==============================] - 0s 2ms/step - loss: 0.4096 - accuracy: 0.8391\n",
      "Epoch 125/150\n",
      "50/50 [==============================] - 0s 2ms/step - loss: 0.4090 - accuracy: 0.8330\n",
      "Epoch 126/150\n",
      "50/50 [==============================] - 0s 2ms/step - loss: 0.4054 - accuracy: 0.8310\n",
      "Epoch 127/150\n",
      "50/50 [==============================] - 0s 2ms/step - loss: 0.4112 - accuracy: 0.8371\n",
      "Epoch 128/150\n",
      "50/50 [==============================] - 0s 2ms/step - loss: 0.4108 - accuracy: 0.8411\n",
      "Epoch 129/150\n",
      "50/50 [==============================] - 0s 2ms/step - loss: 0.4148 - accuracy: 0.8391\n",
      "Epoch 130/150\n",
      "50/50 [==============================] - 0s 2ms/step - loss: 0.4142 - accuracy: 0.8371\n",
      "Epoch 131/150\n",
      "50/50 [==============================] - 0s 2ms/step - loss: 0.3909 - accuracy: 0.8391\n",
      "Epoch 132/150\n",
      "50/50 [==============================] - 0s 2ms/step - loss: 0.4077 - accuracy: 0.8350\n",
      "Epoch 133/150\n",
      "50/50 [==============================] - 0s 2ms/step - loss: 0.3922 - accuracy: 0.8391\n",
      "Epoch 134/150\n",
      "50/50 [==============================] - 0s 2ms/step - loss: 0.4051 - accuracy: 0.8371\n",
      "Epoch 135/150\n",
      "50/50 [==============================] - 0s 2ms/step - loss: 0.4107 - accuracy: 0.8391\n",
      "Epoch 136/150\n",
      "50/50 [==============================] - 0s 2ms/step - loss: 0.4011 - accuracy: 0.8473\n",
      "Epoch 137/150\n",
      "50/50 [==============================] - 0s 2ms/step - loss: 0.4018 - accuracy: 0.8330\n",
      "Epoch 138/150\n",
      "50/50 [==============================] - 0s 2ms/step - loss: 0.4065 - accuracy: 0.8391\n",
      "Epoch 139/150\n",
      "50/50 [==============================] - 0s 2ms/step - loss: 0.3952 - accuracy: 0.8452\n",
      "Epoch 140/150\n",
      "50/50 [==============================] - 0s 2ms/step - loss: 0.3990 - accuracy: 0.8432\n",
      "Epoch 141/150\n",
      "50/50 [==============================] - 0s 1ms/step - loss: 0.3996 - accuracy: 0.8391\n",
      "Epoch 142/150\n",
      "50/50 [==============================] - 0s 2ms/step - loss: 0.4068 - accuracy: 0.8411\n",
      "Epoch 143/150\n",
      "50/50 [==============================] - 0s 1ms/step - loss: 0.4062 - accuracy: 0.8350\n",
      "Epoch 144/150\n",
      "50/50 [==============================] - 0s 1ms/step - loss: 0.4035 - accuracy: 0.8411\n",
      "Epoch 145/150\n",
      "50/50 [==============================] - 0s 1ms/step - loss: 0.4006 - accuracy: 0.8350\n",
      "Epoch 146/150\n",
      "50/50 [==============================] - 0s 1ms/step - loss: 0.3998 - accuracy: 0.8513\n",
      "Epoch 147/150\n",
      "50/50 [==============================] - 0s 1ms/step - loss: 0.4004 - accuracy: 0.8411\n",
      "Epoch 148/150\n",
      "50/50 [==============================] - 0s 1ms/step - loss: 0.3969 - accuracy: 0.8350\n",
      "Epoch 149/150\n",
      "50/50 [==============================] - 0s 2ms/step - loss: 0.3935 - accuracy: 0.8371\n",
      "Epoch 150/150\n",
      "50/50 [==============================] - 0s 1ms/step - loss: 0.3983 - accuracy: 0.8371\n"
     ]
    },
    {
     "data": {
      "text/plain": [
       "<keras.callbacks.History at 0x250b8c2cac0>"
      ]
     },
     "execution_count": 17,
     "metadata": {},
     "output_type": "execute_result"
    }
   ],
   "source": [
    "# fitting the classifier to the data\n",
    "classifier.fit(X_train, y_train, batch_size = 10, epochs = 150)"
   ]
  },
  {
   "cell_type": "code",
   "execution_count": 18,
   "id": "8c3513d7",
   "metadata": {},
   "outputs": [
    {
     "name": "stdout",
     "output_type": "stream",
     "text": [
      "4/4 [==============================] - 0s 2ms/step - loss: 0.5432 - accuracy: 0.7724\n"
     ]
    },
    {
     "data": {
      "text/plain": [
       "[0.5432183146476746, 0.772357702255249]"
      ]
     },
     "execution_count": 18,
     "metadata": {},
     "output_type": "execute_result"
    }
   ],
   "source": [
    "# getting the loss and accuracy of the network\n",
    "classifier.evaluate(X_test, y_test)"
   ]
  },
  {
   "cell_type": "code",
   "execution_count": 19,
   "id": "5e469bed",
   "metadata": {},
   "outputs": [
    {
     "name": "stdout",
     "output_type": "stream",
     "text": [
      "4/4 [==============================] - 0s 1ms/step\n"
     ]
    }
   ],
   "source": [
    "y_pred = classifier.predict(X_test)"
   ]
  },
  {
   "cell_type": "code",
   "execution_count": 20,
   "id": "863d4f57",
   "metadata": {},
   "outputs": [],
   "source": [
    "y_pred = (y_pred > 0.5).astype(int)"
   ]
  },
  {
   "cell_type": "code",
   "execution_count": 21,
   "id": "04cf7c04",
   "metadata": {},
   "outputs": [
    {
     "data": {
      "text/plain": [
       "array([[1],\n",
       "       [0],\n",
       "       [1],\n",
       "       [1],\n",
       "       [1],\n",
       "       [1],\n",
       "       [1],\n",
       "       [1],\n",
       "       [1],\n",
       "       [1],\n",
       "       [1],\n",
       "       [1],\n",
       "       [1],\n",
       "       [1],\n",
       "       [1],\n",
       "       [1],\n",
       "       [1],\n",
       "       [1],\n",
       "       [0],\n",
       "       [1],\n",
       "       [0],\n",
       "       [1],\n",
       "       [1],\n",
       "       [1],\n",
       "       [1],\n",
       "       [0],\n",
       "       [1],\n",
       "       [0],\n",
       "       [1],\n",
       "       [1],\n",
       "       [1],\n",
       "       [1],\n",
       "       [1],\n",
       "       [1],\n",
       "       [0],\n",
       "       [1],\n",
       "       [1],\n",
       "       [1],\n",
       "       [1],\n",
       "       [0],\n",
       "       [1],\n",
       "       [0],\n",
       "       [1],\n",
       "       [0],\n",
       "       [1],\n",
       "       [0],\n",
       "       [0],\n",
       "       [0],\n",
       "       [0],\n",
       "       [1],\n",
       "       [0],\n",
       "       [1],\n",
       "       [0],\n",
       "       [1],\n",
       "       [0],\n",
       "       [0],\n",
       "       [1],\n",
       "       [0],\n",
       "       [1],\n",
       "       [1],\n",
       "       [1],\n",
       "       [1],\n",
       "       [0],\n",
       "       [1],\n",
       "       [1],\n",
       "       [1],\n",
       "       [1],\n",
       "       [1],\n",
       "       [1],\n",
       "       [1],\n",
       "       [1],\n",
       "       [1],\n",
       "       [1],\n",
       "       [1],\n",
       "       [1],\n",
       "       [0],\n",
       "       [0],\n",
       "       [1],\n",
       "       [1],\n",
       "       [1],\n",
       "       [1],\n",
       "       [1],\n",
       "       [0],\n",
       "       [1],\n",
       "       [1],\n",
       "       [0],\n",
       "       [1],\n",
       "       [1],\n",
       "       [1],\n",
       "       [1],\n",
       "       [1],\n",
       "       [1],\n",
       "       [1],\n",
       "       [1],\n",
       "       [1],\n",
       "       [1],\n",
       "       [1],\n",
       "       [0],\n",
       "       [1],\n",
       "       [1],\n",
       "       [1],\n",
       "       [1],\n",
       "       [0],\n",
       "       [1],\n",
       "       [0],\n",
       "       [0],\n",
       "       [1],\n",
       "       [1],\n",
       "       [1],\n",
       "       [1],\n",
       "       [1],\n",
       "       [1],\n",
       "       [1],\n",
       "       [1],\n",
       "       [1],\n",
       "       [1],\n",
       "       [1],\n",
       "       [1],\n",
       "       [1],\n",
       "       [0],\n",
       "       [1],\n",
       "       [0],\n",
       "       [1]])"
      ]
     },
     "execution_count": 21,
     "metadata": {},
     "output_type": "execute_result"
    }
   ],
   "source": [
    "y_pred"
   ]
  },
  {
   "cell_type": "code",
   "execution_count": 22,
   "id": "3edf1ece",
   "metadata": {},
   "outputs": [
    {
     "data": {
      "text/plain": [
       "array([[16, 15],\n",
       "       [13, 79]], dtype=int64)"
      ]
     },
     "execution_count": 22,
     "metadata": {},
     "output_type": "execute_result"
    }
   ],
   "source": [
    "# printing out a confusion matrix\n",
    "cm = confusion_matrix(y_test, y_pred)\n",
    "cm"
   ]
  },
  {
   "cell_type": "code",
   "execution_count": 23,
   "id": "f0948f22",
   "metadata": {},
   "outputs": [
    {
     "data": {
      "text/plain": [
       "Text(0.5, 257.44, 'Predicted label')"
      ]
     },
     "execution_count": 23,
     "metadata": {},
     "output_type": "execute_result"
    },
    {
     "data": {
      "image/png": "[encoded data removed]",
      "text/plain": [
       "<Figure size 432x288 with 2 Axes>"
      ]
     },
     "metadata": {
      "needs_background": "light"
     },
     "output_type": "display_data"
    }
   ],
   "source": [
    "class_names=[0,1] # name  of classes\n",
    "fig, ax = plt.subplots()\n",
    "tick_marks = np.arange(len(class_names))\n",
    "plt.xticks(tick_marks, class_names)\n",
    "plt.yticks(tick_marks, class_names)\n",
    "# create heatmap\n",
    "sns.heatmap(pd.DataFrame(cm), annot=True, cmap=\"YlGnBu\" ,fmt='g')\n",
    "ax.xaxis.set_label_position(\"top\")\n",
    "plt.tight_layout()\n",
    "plt.title('Confusion matrix', y=1.1)\n",
    "plt.ylabel('Actual label')\n",
    "plt.xlabel('Predicted label')"
   ]
  },
  {
   "cell_type": "code",
   "execution_count": 24,
   "id": "9accd965",
   "metadata": {},
   "outputs": [
    {
     "data": {
      "text/plain": [
       "77.23577235772358"
      ]
     },
     "execution_count": 24,
     "metadata": {},
     "output_type": "execute_result"
    }
   ],
   "source": [
    "# calculating the accuracy of the predictions\n",
    "(95/123) * 100"
   ]
  },
  {
   "cell_type": "code",
   "execution_count": 25,
   "id": "1f957c90",
   "metadata": {},
   "outputs": [
    {
     "name": "stdout",
     "output_type": "stream",
     "text": [
      "1/1 [==============================] - 0s 20ms/step\n"
     ]
    },
    {
     "name": "stderr",
     "output_type": "stream",
     "text": [
      "C:\\anaconda\\lib\\site-packages\\sklearn\\base.py:450: UserWarning: X does not have valid feature names, but StandardScaler was fitted with feature names\n",
      "  warnings.warn(\n"
     ]
    }
   ],
   "source": [
    "new_pred = classifier.predict(scaler.transform(np.array([[1, 0, 0, 1, 0, 1300, 0, 350, 360, 0.0, 0]])))"
   ]
  },
  {
   "cell_type": "code",
   "execution_count": 26,
   "id": "2935c899",
   "metadata": {},
   "outputs": [
    {
     "data": {
      "text/plain": [
       "array([[0]])"
      ]
     },
     "execution_count": 26,
     "metadata": {},
     "output_type": "execute_result"
    }
   ],
   "source": [
    "new_pred = (new_pred > 0.5).astype(int)\n",
    "new_pred"
   ]
  },
  {
   "cell_type": "code",
   "execution_count": 27,
   "id": "c75bd253",
   "metadata": {},
   "outputs": [],
   "source": [
    "def make_classifier():\n",
    "    classifier = Sequential()\n",
    "    classifier.add(Dense(11, kernel_initializer = \"uniform\", activation = \"relu\", input_dim=11))\n",
    "    classifier.add(Dense(6, kernel_initializer = \"uniform\", activation = \"relu\"))\n",
    "    classifier.add(Dropout(rate = 0.1))\n",
    "    classifier.add(Dense(1, kernel_initializer = \"uniform\", activation = \"sigmoid\"))\n",
    "    classifier.compile(optimizer= \"adam\",loss = \"binary_crossentropy\",metrics = [\"accuracy\"])\n",
    "    return classifier"
   ]
  },
  {
   "cell_type": "code",
   "execution_count": 28,
   "id": "2fa58a64",
   "metadata": {},
   "outputs": [
    {
     "name": "stderr",
     "output_type": "stream",
     "text": [
      "C:\\Users\\BRANDO~1\\AppData\\Local\\Temp/ipykernel_27176/1323621957.py:1: DeprecationWarning: KerasClassifier is deprecated, use Sci-Keras (https://github.com/adriangb/scikeras) instead. See https://www.adriangb.com/scikeras/stable/migration.html for help migrating.\n",
      "  classifier = KerasClassifier(build_fn = make_classifier, batch_size=10, nb_epoch=150)\n"
     ]
    }
   ],
   "source": [
    "classifier = KerasClassifier(build_fn = make_classifier, batch_size=10, nb_epoch=150)"
   ]
  },
  {
   "cell_type": "code",
   "execution_count": 29,
   "id": "dda5ef43",
   "metadata": {},
   "outputs": [],
   "source": [
    "accuracies = cross_val_score(estimator = classifier, X = X_train, y = y_train, cv = 10, n_jobs = -1)"
   ]
  },
  {
   "cell_type": "code",
   "execution_count": 30,
   "id": "d4bcf0ff",
   "metadata": {},
   "outputs": [
    {
     "data": {
      "text/plain": [
       "0.6722857236862183"
      ]
     },
     "execution_count": 30,
     "metadata": {},
     "output_type": "execute_result"
    }
   ],
   "source": [
    "mean = accuracies.mean()\n",
    "mean"
   ]
  },
  {
   "cell_type": "code",
   "execution_count": 31,
   "id": "e720ca99",
   "metadata": {},
   "outputs": [
    {
     "data": {
      "text/plain": [
       "0.007119648804112302"
      ]
     },
     "execution_count": 31,
     "metadata": {},
     "output_type": "execute_result"
    }
   ],
   "source": [
    "variance = accuracies.var()\n",
    "variance"
   ]
  },
  {
   "cell_type": "code",
   "execution_count": null,
   "id": "a85370ab",
   "metadata": {},
   "outputs": [],
   "source": []
  }
 ],
 "metadata": {
  "kernelspec": {
   "display_name": "Python 3 (ipykernel)",
   "language": "python",
   "name": "python3"
  },
  "language_info": {
   "codemirror_mode": {
    "name": "ipython",
    "version": 3
   },
   "file_extension": ".py",
   "mimetype": "text/x-python",
   "name": "python",
   "nbconvert_exporter": "python",
   "pygments_lexer": "ipython3",
   "version": "3.9.7"
  }
 },
 "nbformat": 4,
 "nbformat_minor": 5
}
